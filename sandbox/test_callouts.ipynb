{
 "cells": [
  {
   "cell_type": "code",
   "execution_count": 1,
   "metadata": {},
   "outputs": [],
   "source": [
    "from pyg import twod as pyg\n",
    "from pym import func as pym"
   ]
  },
  {
   "cell_type": "code",
   "execution_count": 2,
   "metadata": {},
   "outputs": [
    {
     "name": "stdout",
     "output_type": "stream",
     "text": [
      "[0, 1, 2, 3, 4, 5, 6, 7, 8, 9, 10, 11, 12, 13, 14, 15, 16, 17, 18, 19, 20, 21, 22, 23, 24, 25, 26, 27, 28, 29, 30, 31, 32, 33, 34] [0, 1, 4, 9, 16, 25, 36, 49, 64, 81, 100, 121, 144, 169, 196, 225, 256, 289, 324, 361, 400, 441, 484, 529, 576, 625, 676, 729, 784, 841, 900, 961, 1024, 1089, 1156]\n"
     ]
    }
   ],
   "source": [
    "x = range(0, 35)\n",
    "y = [_x**2 for _x in x]\n",
    "print x, y"
   ]
  },
  {
   "cell_type": "code",
   "execution_count": 3,
   "metadata": {},
   "outputs": [
    {
     "data": {
      "text/html": [
       "\n",
       "                <div class='pygfigure' name='' style='text-align: center; max-width: 800px; margin-left: auto; margin-right: auto;'>\n",
       "                    <img style='margin: auto; max-width:100%; width:1250.000000px; height: auto;' src='test_callout.svg?117427402' />\n",
       "                    <div style='margin: auto; text-align: center;' class='figurecaption'><b>Figure 1:</b> </div>\n",
       "                </div>\n",
       "            "
      ],
      "text/plain": [
       "<IPython.core.display.HTML object>"
      ]
     },
     "metadata": {},
     "output_type": "display_data"
    }
   ],
   "source": [
    "curve = pym.curve(x, y, 'some')\n",
    "plot = curve.plot(linecolor='#cccccc')\n",
    "plot.export('test_callout', force=True)\n",
    "plot.show('', label='')"
   ]
  },
  {
   "cell_type": "code",
   "execution_count": 15,
   "metadata": {
    "scrolled": false
   },
   "outputs": [
    {
     "name": "stdout",
     "output_type": "stream",
     "text": [
      "['transLimits', '_get_patches_for_fill', 'dataLim', '_clipon', 'tables', 'patches', 'title', '_current_image', '_rasterized', 'collections', '_axes', 'eventson', 'callbacks', '_snap', '_facecolor', '_stale', 'bbox', 'ignore_existing_data_limits', '_oid', '_left_title', '_transform', 'patch', 'viewLim', '_subplotspec', '_adjustable', '_gridOn', 'stale_callback', 'images', '_xmargin', '_position', '_cachedRenderer', '_originalPosition', '_xaxis_transform', '_mouseover', 'xaxis', '_remove_method', '_connected', '_frameon', 'transData', '_picker', '_sharey', '_sharex', '_ymargin', '_sticky_edges', 'yaxis', '_ycid', 'spines', '_url', '_label', '_xcid', 'legend_', 'texts', 'axison', '_autoscaleYon', '_hold', 'artists', 'mouseover_set', 'numRows', '_animated', '_propobservers', '_right_title', 'containers', '_get_lines', '_aspect', 'fmt_xdata', '_anchor', '_sketch', '_transformSet', 'transScale', '_alpha', 'figure', 'titleOffsetTrans', '_yaxis_transform', 'colNum', '_agg_filter', '_path_effects', '_autoscaleXon', 'rowNum', '_cursorProps', '_rasterization_zorder', '_navigate', '_clippath', '_contains', 'figbox', 'transAxes', 'axesPatch', 'fmt_ydata', 'clipbox', '_navigate_mode', '_axes_locator', 'numCols', '_tight', '_axisbelow', '_visible', 'lines', '_gid', '_use_sticky_edges']\n",
      "[<matplotlib.lines.Line2D object at 0x2b7e4ab6e310>]\n",
      "[ 0  1  2  3  4  5  6  7  8  9 10 11 12 13 14 15 16 17 18 19 20 21 22 23 24\n",
      " 25 26 27 28 29 30 31 32 33 34]\n",
      "[   0    1    4    9   16   25   36   49   64   81  100  121  144  169  196\n",
      "  225  256  289  324  361  400  441  484  529  576  625  676  729  784  841\n",
      "  900  961 1024 1089 1156]\n",
      "(-1.7000000000000002, 35.700000000000003)\n",
      "(-57.800000000000004, 1213.8)\n"
     ]
    }
   ],
   "source": [
    "#print dir(plot.ax)\n",
    "print plot.ax.__dict__.keys()\n",
    "print plot.ax.__dict__['lines']\n",
    "print plot.ax.__dict__['lines'][0].get_xdata()\n",
    "print plot.ax.__dict__['lines'][0].get_ydata()\n",
    "print plot.ax.get_xlim()\n",
    "print plot.ax.get_ylim()\n",
    "# find graph direction\n",
    "# up\n",
    "# if up, we put the lowest first on the left side, then go upward\n",
    "# straight\n",
    "# if straight, add some space to the top and go from highest first left and downward\n",
    "# down\n",
    "# if down, we put the highest first on the left side, then go downward\n",
    "# if down up\n",
    "# if up down\n",
    "# messy"
   ]
  },
  {
   "cell_type": "code",
   "execution_count": null,
   "metadata": {},
   "outputs": [],
   "source": []
  }
 ],
 "metadata": {
  "kernelspec": {
   "display_name": "Python 2",
   "language": "python",
   "name": "python2"
  },
  "language_info": {
   "codemirror_mode": {
    "name": "ipython",
    "version": 2
   },
   "file_extension": ".py",
   "mimetype": "text/x-python",
   "name": "python",
   "nbconvert_exporter": "python",
   "pygments_lexer": "ipython2",
   "version": "2.7.12"
  }
 },
 "nbformat": 4,
 "nbformat_minor": 2
}
