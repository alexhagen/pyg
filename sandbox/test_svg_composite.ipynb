{
 "cells": [
  {
   "cell_type": "code",
   "execution_count": 1,
   "metadata": {
    "collapsed": true
   },
   "outputs": [],
   "source": [
    "from pyg import twod as pyg2d\n",
    "from pyg import composite as pygc\n",
    "import numpy as np"
   ]
  },
  {
   "cell_type": "code",
   "execution_count": 2,
   "metadata": {
    "scrolled": false
   },
   "outputs": [
    {
     "name": "stdout",
     "output_type": "stream",
     "text": [
      "[[ 366.12491699  208.0089826 ]\n",
      " [ 445.83031535  359.15649203]]\n",
      "set_width: 53.136932 set_height: 53.136927\n",
      "width: 100.000000 height: 100.000010\n",
      "scale: 0.531369\n",
      "fig_width: 625.000000\n",
      "fig_height: 386.271243\n",
      "pos: 252.939433, 179.503776\n",
      "[[ 286.41951863   56.86147317]\n",
      " [ 366.12491699  208.0089826 ]]\n",
      "set_width: 53.136932 set_height: 53.136927\n",
      "width: 100.000000 height: 100.000010\n",
      "scale: 0.531369\n",
      "fig_width: 625.000000\n",
      "fig_height: 386.271243\n",
      "pos: 199.802501, 280.268782\n",
      "[[ 107.08237232   94.64835052]\n",
      " [ 226.64046986  321.36961467]]\n",
      "set_width: 79.705398 set_height: 79.705390\n",
      "width: 100.000000 height: 100.000010\n",
      "scale: 0.797054\n",
      "fig_width: 625.000000\n",
      "fig_height: 386.271243\n",
      "pos: 84.672481, 221.030124\n",
      "[<svgutils.compose.Panel object at 0x2af29a189fd0>, <svgutils.compose.Panel object at 0x2af29c1dc950>, <svgutils.compose.Panel object at 0x2af29a1aae90>, <svgutils.compose.Panel object at 0x2af29c1dced0>]\n"
     ]
    },
    {
     "data": {
      "text/html": [
       "\n",
       "\t\t\t\t<div class='pygfigure' name='['somecaption']' style='text-align: center; max-width: 800px; margin-left: auto; margin-right: auto;'>\n",
       "\t\t\t\t\t<img style='margin: auto; max-width:100%; width:1250.000000px; height: auto;' src='test.svg?25705458' />\n",
       "\t\t\t\t\t<div style='margin: auto; text-align: center;' class='figurecaption'><b>Figure 1:</b> some caption</div>\n",
       "\t\t\t\t</div>\n",
       "\t\t\t"
      ],
      "text/plain": [
       "<IPython.core.display.HTML object>"
      ]
     },
     "metadata": {},
     "output_type": "display_data"
    }
   ],
   "source": [
    "plot = pygc.composite()\n",
    "plot.add_line(np.linspace(0., 2.0 * np.pi),\n",
    "              np.sin(np.linspace(0., 2.0 * np.pi)))\n",
    "plot.xlabel(r'x coordinate ($x$) [$\\unit{cm}$]')\n",
    "plot.ylabel(r'y coordinate ($y$) [$\\unit{cm}$]')\n",
    "plot.add_asset(\"atom.svg\", [1.0, 1.0], (4.0, 0.5))\n",
    "plot.add_asset(\"atom.svg\", [1.0, 1.0], (3.0, -0.5))\n",
    "plot.add_asset(\"atom.svg\", [1.5, 1.5], (1.0, 0.0))\n",
    "\n",
    "plot.export('test', force=True)\n",
    "plot.show('some caption', label=None)"
   ]
  },
  {
   "cell_type": "code",
   "execution_count": null,
   "metadata": {
    "collapsed": true
   },
   "outputs": [],
   "source": []
  }
 ],
 "metadata": {
  "hide_input": false,
  "kernelspec": {
   "display_name": "Python 2",
   "language": "python",
   "name": "python2"
  },
  "language_info": {
   "codemirror_mode": {
    "name": "ipython",
    "version": 2
   },
   "file_extension": ".py",
   "mimetype": "text/x-python",
   "name": "python",
   "nbconvert_exporter": "python",
   "pygments_lexer": "ipython2",
   "version": "2.7.12"
  },
  "latex_envs": {
   "LaTeX_envs_menu_present": true,
   "autocomplete": true,
   "bibliofile": "bibs/dissertation.bib",
   "cite_by": "apalike",
   "current_citInitial": 1,
   "eqLabelWithNumbers": true,
   "eqNumInitial": 1,
   "hotkeys": {
    "equation": "Ctrl-E",
    "itemize": "Ctrl-I"
   },
   "labels_anchors": false,
   "latex_user_defs": false,
   "report_style_numbering": false,
   "user_envs_cfg": false
  }
 },
 "nbformat": 4,
 "nbformat_minor": 2
}
