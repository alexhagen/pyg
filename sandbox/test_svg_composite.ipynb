{
 "cells": [
  {
   "cell_type": "code",
   "execution_count": 1,
   "metadata": {},
   "outputs": [],
   "source": [
    "from pyg import twod as pyg2d\n",
    "from pyg import composite as pygc\n",
    "import numpy as np"
   ]
  },
  {
   "cell_type": "code",
   "execution_count": 2,
   "metadata": {},
   "outputs": [
    {
     "name": "stdout",
     "output_type": "stream",
     "text": [
      "[[ 345.4305586   191.20426527]\n",
      " [ 415.51299093  326.39920031]]\n",
      "set_width: 46.721622 set_height: 46.721617\n",
      "width: 100.000000 height: 100.000010\n",
      "scale: 0.467216\n",
      "fig_width: 625.000000\n",
      "fig_height: 386.271243\n",
      "pos: 238.073976, 198.162882\n",
      "[[ 275.34812627   56.00933023]\n",
      " [ 345.4305586   191.20426527]]\n",
      "set_width: 46.721622 set_height: 46.721617\n",
      "width: 100.000000 height: 100.000010\n",
      "scale: 0.467216\n",
      "fig_width: 625.000000\n",
      "fig_height: 386.271243\n",
      "pos: 191.352354, 288.292839\n",
      "[[ 117.66265354   89.80806399]\n",
      " [ 222.78630203  292.60046655]]\n",
      "set_width: 70.082432 set_height: 70.082425\n",
      "width: 100.000000 height: 100.000010\n",
      "scale: 0.700824\n",
      "fig_width: 625.000000\n",
      "fig_height: 386.271243\n",
      "pos: 90.122174, 235.440924\n",
      "[<svgutils.compose.Panel object at 0x2ad462d69290>, <svgutils.compose.Panel object at 0x2ad462d0a250>, <svgutils.compose.Panel object at 0x2ad462d0a590>, <svgutils.compose.Panel object at 0x2ad462d60950>]\n"
     ]
    },
    {
     "data": {
      "text/html": [
       "\n",
       "\t\t\t\t<div class='pygfigure' name='['somecaption']' style='text-align: center; max-width: 800px; margin-left: auto; margin-right: auto;'>\n",
       "\t\t\t\t\t<img style='margin: auto; max-width:100%; width:1250.000000px; height: auto;' src='test.svg?769685392' />\n",
       "\t\t\t\t\t<div style='margin: auto; text-align: center;' class='figurecaption'><b>Figure 1:</b> some caption</div>\n",
       "\t\t\t\t</div>\n",
       "\t\t\t"
      ],
      "text/plain": [
       "<IPython.core.display.HTML object>"
      ]
     },
     "metadata": {},
     "output_type": "display_data"
    }
   ],
   "source": [
    "plot = pygc.composite()\n",
    "plot.add_line(np.linspace(0., 2.0 * np.pi),\n",
    "              np.sin(np.linspace(0., 2.0 * np.pi)))\n",
    "plot.xlabel(r'x coordinate ($x$) [$\\unit{cm}$]')\n",
    "plot.ylabel(r'y coordinate ($y$) [$\\unit{cm}$]')\n",
    "plot.add_asset(\"atom.svg\", [1.0, 1.0], (4.0, 0.5))\n",
    "plot.add_asset(\"atom.svg\", [1.0, 1.0], (3.0, -0.5))\n",
    "plot.add_asset(\"atom.svg\", [1.5, 1.5], (1.0, 0.0))\n",
    "\n",
    "plot.export('test', force=True)\n",
    "plot.show('some caption', label=None)"
   ]
  },
  {
   "cell_type": "code",
   "execution_count": null,
   "metadata": {
    "collapsed": true
   },
   "outputs": [],
   "source": []
  }
 ],
 "metadata": {
  "hide_input": false,
  "kernelspec": {
   "display_name": "Python 2",
   "language": "python",
   "name": "python2"
  },
  "language_info": {
   "codemirror_mode": {
    "name": "ipython",
    "version": 2
   },
   "file_extension": ".py",
   "mimetype": "text/x-python",
   "name": "python",
   "nbconvert_exporter": "python",
   "pygments_lexer": "ipython2",
   "version": "2.7.12"
  },
  "latex_envs": {
   "LaTeX_envs_menu_present": true,
   "autocomplete": true,
   "bibliofile": "bibs/dissertation.bib",
   "cite_by": "apalike",
   "current_citInitial": 1,
   "eqLabelWithNumbers": true,
   "eqNumInitial": 1,
   "hotkeys": {
    "equation": "Ctrl-E",
    "itemize": "Ctrl-I"
   },
   "labels_anchors": false,
   "latex_user_defs": false,
   "report_style_numbering": false,
   "user_envs_cfg": false
  }
 },
 "nbformat": 4,
 "nbformat_minor": 2
}
