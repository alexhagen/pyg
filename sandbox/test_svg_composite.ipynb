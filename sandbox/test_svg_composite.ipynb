{
 "cells": [
  {
   "cell_type": "code",
   "execution_count": null,
   "metadata": {},
   "outputs": [],
   "source": [
    "from pyg import twod as pyg2d\n",
    "from pyg import composite as pygc\n",
    "import numpy as np"
   ]
  },
  {
   "cell_type": "code",
   "execution_count": null,
   "metadata": {
    "scrolled": false
   },
   "outputs": [],
   "source": [
    "plot = pygc.composite()\n",
    "plot.add_line(np.linspace(0., 2.0 * np.pi),\n",
    "              np.sin(np.linspace(0., 2.0 * np.pi)))\n",
    "plot.xlabel(r'x coordinate ($x$) [$\\unit{cm}$]')\n",
    "plot.ylabel(r'y coordinate ($y$) [$\\unit{cm}$]')\n",
    "plot.add_asset(\"atom.svg\", [1.0, 0.2], (4.0, 0.5))\n",
    "plot.add_asset(\"atom.svg\", [1.0, 1.0], (3.0, -0.5))\n",
    "plot.add_asset(\"atom.svg\", [1.5, 1.5], (1.0, 0.0), above=False)\n",
    "\n",
    "plot.export('test', ratio='golden', force=True)\n",
    "plot.show('some caption', label=None)"
   ]
  },
  {
   "cell_type": "code",
   "execution_count": null,
   "metadata": {
    "collapsed": true
   },
   "outputs": [],
   "source": []
  }
 ],
 "metadata": {
  "hide_input": false,
  "kernelspec": {
   "display_name": "Python 2",
   "language": "python",
   "name": "python2"
  },
  "language_info": {
   "codemirror_mode": {
    "name": "ipython",
    "version": 2
   },
   "file_extension": ".py",
   "mimetype": "text/x-python",
   "name": "python",
   "nbconvert_exporter": "python",
   "pygments_lexer": "ipython2",
   "version": "2.7.12"
  },
  "latex_envs": {
   "LaTeX_envs_menu_present": true,
   "autocomplete": true,
   "bibliofile": "bibs/dissertation.bib",
   "cite_by": "apalike",
   "current_citInitial": 1,
   "eqLabelWithNumbers": true,
   "eqNumInitial": 1,
   "hotkeys": {
    "equation": "Ctrl-E",
    "itemize": "Ctrl-I"
   },
   "labels_anchors": false,
   "latex_user_defs": false,
   "report_style_numbering": false,
   "user_envs_cfg": false
  }
 },
 "nbformat": 4,
 "nbformat_minor": 2
}
