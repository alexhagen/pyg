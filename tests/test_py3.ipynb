{
 "cells": [
  {
   "cell_type": "code",
   "execution_count": 1,
   "metadata": {},
   "outputs": [],
   "source": [
    "from pyg import twod as pyg\n",
    "from pym import func as pym"
   ]
  },
  {
   "cell_type": "code",
   "execution_count": 2,
   "metadata": {},
   "outputs": [],
   "source": [
    "import numpy as np"
   ]
  },
  {
   "cell_type": "code",
   "execution_count": 5,
   "metadata": {},
   "outputs": [
    {
     "data": {
      "text/html": [
       "\n",
       "                <div class='pygfigure' name='['']' style='text-align: center; max-width: 800px; margin-left: auto; margin-right: auto;'>\n",
       "                    <img style='margin: auto; max-width:100%; width:1250.000000px; height: auto;' src='something.svg?315452407' />\n",
       "                    <div style='margin: auto; text-align: center;' class='figurecaption'><b>Figure 3:</b> </div>\n",
       "                </div>\n",
       "            "
      ],
      "text/plain": [
       "<IPython.core.display.HTML object>"
      ]
     },
     "metadata": {},
     "output_type": "display_data"
    }
   ],
   "source": [
    "x = np.linspace(0., 100.)\n",
    "y = 10. * x + 1.0E-5 * np.power(x, 2.)\n",
    "curve = pym.curve(x, y, name=r'$\\alpha$')\n",
    "plot = curve.plot()\n",
    "plot.legend(loc=2)\n",
    "plot.export('something', force=True)\n",
    "plot.show()"
   ]
  },
  {
   "cell_type": "code",
   "execution_count": null,
   "metadata": {},
   "outputs": [],
   "source": []
  }
 ],
 "metadata": {
  "kernelspec": {
   "display_name": "Python 3",
   "language": "python",
   "name": "python3"
  },
  "language_info": {
   "codemirror_mode": {
    "name": "ipython",
    "version": 3
   },
   "file_extension": ".py",
   "mimetype": "text/x-python",
   "name": "python",
   "nbconvert_exporter": "python",
   "pygments_lexer": "ipython3",
   "version": "3.7.0"
  }
 },
 "nbformat": 4,
 "nbformat_minor": 2
}
