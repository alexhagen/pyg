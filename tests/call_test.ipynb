{
 "cells": [
  {
   "cell_type": "code",
   "execution_count": 1,
   "metadata": {},
   "outputs": [
    {
     "name": "stdout",
     "output_type": "stream",
     "text": [
      "['__builtins__', '__cached__', '__doc__', '__file__', '__loader__', '__name__', '__package__', '__spec__']\n"
     ]
    },
    {
     "data": {
      "text/html": [
       "\n",
       "                <div class='pygfigure' name='['Temporaryfigure267347282']' style='text-align: center; max-width: 800px; margin-left: auto; margin-right: auto;'>\n",
       "                    <img style='margin: auto; max-width:100%; width:1250.000000px; height: auto;' src='~267347282.svg?1072730496' />\n",
       "                    <div style='margin: auto; text-align: center;' class='figurecaption'><b>Figure 1:</b> Temporary figure ~267347282</div>\n",
       "                </div>\n",
       "            "
      ],
      "text/plain": [
       "<IPython.core.display.HTML object>"
      ]
     },
     "metadata": {},
     "output_type": "display_data"
    }
   ],
   "source": [
    "from pyg import twod as pyg2d\n",
    "\n",
    "plot = pyg2d.pyg2d()\n",
    "plot.add_line([0., 1.], [0., 1.])\n",
    "plot()"
   ]
  },
  {
   "cell_type": "code",
   "execution_count": null,
   "metadata": {},
   "outputs": [],
   "source": []
  }
 ],
 "metadata": {
  "kernelspec": {
   "display_name": "py36",
   "language": "python",
   "name": "py36"
  },
  "language_info": {
   "codemirror_mode": {
    "name": "ipython",
    "version": 3
   },
   "file_extension": ".py",
   "mimetype": "text/x-python",
   "name": "python",
   "nbconvert_exporter": "python",
   "pygments_lexer": "ipython3",
   "version": "3.6.5"
  }
 },
 "nbformat": 4,
 "nbformat_minor": 2
}
