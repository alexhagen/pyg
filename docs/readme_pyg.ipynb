{
 "cells": [
  {
   "cell_type": "markdown",
   "metadata": {
    "deletable": true,
    "editable": true
   },
   "source": [
    "# pyg - A graphics class\n",
    "\n",
    "By Alex Hagen\n",
    "\n",
    "``pyg`` started as a simple wrapper around ``matplotlib`` to help me keep my style the same in plotting, but now it's expanded to a full graphics suite.\n",
    "\n",
    "## Installation\n",
    "\n",
    "For ``pyg``, we need quite a few requirements.  Installation right now is pretty manual, but this should do the trick on unix systems:\n",
    "\n",
    "```bash\n",
    "pip install numpy scipy matplotlib colours\n",
    "mkdir ~/util\n",
    "cd ~/util\n",
    "git clone https://github.com/alexhagen/pyg -b master pyg\n",
    "sudo echo \"export PYTHONPATH=${PYTHONPATH}:~/util\" >> ~/.bashrc\n",
    "source ~/.bashrc\n",
    "```\n",
    "\n",
    "and then we can just import pyg whenever with"
   ]
  },
  {
   "cell_type": "code",
   "execution_count": 1,
   "metadata": {
    "collapsed": true,
    "deletable": true,
    "editable": true
   },
   "outputs": [],
   "source": [
    "from pyg import twod as pyg2d"
   ]
  },
  {
   "cell_type": "markdown",
   "metadata": {
    "deletable": true,
    "editable": true
   },
   "source": [
    "## Usage\n",
    "\n",
    "``pyg`` has one main class, a ``twod`` plot type, and it has several other classes. The ``table`` module has some table printing help for Jupyter notebooks and some LaTeX publication helper functions.  The ``threed`` module has some ``matplotlib`` three dimensional plotting (this is good for surface plotting, if you're doing geometric visualization, use my [``pyb``](github.com/alexhagen/pyb) class, which I'll include into ``pyg`` soon), ``three2twod`` is a class for annotating three dimensional plotting (if you have the transformation matrix from 3-d to 2-d).  I've created some informative examples of these below."
   ]
  },
  {
   "cell_type": "markdown",
   "metadata": {
    "deletable": true,
    "editable": true
   },
   "source": [
    "### Line Plotting\n",
    "\n",
    "The simplest plotting in ``pyg`` is line plotting, so I've crafted a little exam"
   ]
  },
  {
   "cell_type": "code",
   "execution_count": 2,
   "metadata": {
    "collapsed": false,
    "deletable": true,
    "editable": true,
    "scrolled": true
   },
   "outputs": [
    {
     "data": {
      "text/html": [
       "\n",
       "\t\t\t\t<div class='pygfigure' name='' style='text-align: center; max-width: 800px; margin-left: auto; margin-right: auto;'>\n",
       "\t\t\t\t\t<img style='margin: auto; max-width:100%; width:1250.000000px; height: auto;' src='_static/line.svg?1025790404' />\n",
       "\t\t\t\t\t<div style='margin: auto; text-align: center;' class='figurecaption'><b>Figure 1:</b> some caption</div>\n",
       "\t\t\t\t</div>\n",
       "\t\t\t"
      ],
      "text/plain": [
       "<IPython.core.display.HTML object>"
      ]
     },
     "metadata": {},
     "output_type": "display_data"
    }
   ],
   "source": [
    "import numpy as np\n",
    "\n",
    "x = np.linspace(0.0, 4.0 * np.pi, 1000)\n",
    "y = np.sin(x)\n",
    "u_y = 0.1\n",
    "\n",
    "plot = pyg2d.pyg2d()\n",
    "plot.add_line(x, y, linestyle='-', linecolor='#285668', yerr=u_y, name=r'$\\sin \\left( \\theta \\right)$')\n",
    "\n",
    "plot.xlabel('x-coordinate ($x$) [$\\unit{cm}$]')\n",
    "plot.ylabel('y-coordinate ($y$) [$\\unit{cm}$]')\n",
    "\n",
    "plot.lines_on()\n",
    "plot.markers_off()\n",
    "\n",
    "plot.export('_static/line', ratio='silver')\n",
    "plot.show(caption='some caption', label='')"
   ]
  },
  {
   "cell_type": "markdown",
   "metadata": {
    "deletable": true,
    "editable": true
   },
   "source": [
    "### Dual Axis Plotting"
   ]
  },
  {
   "cell_type": "code",
   "execution_count": 3,
   "metadata": {
    "collapsed": false,
    "deletable": true,
    "editable": true
   },
   "outputs": [
    {
     "data": {
      "text/html": [
       "\n",
       "\t\t\t\t<div class='pygfigure' name='' style='text-align: center; max-width: 800px; margin-left: auto; margin-right: auto;'>\n",
       "\t\t\t\t\t<img style='margin: auto; max-width:100%; width:1250.000000px; height: auto;' src='_static/dual.svg?1468046666' />\n",
       "\t\t\t\t\t<div style='margin: auto; text-align: center;' class='figurecaption'><b>Figure 2:</b> some caption</div>\n",
       "\t\t\t\t</div>\n",
       "\t\t\t"
      ],
      "text/plain": [
       "<IPython.core.display.HTML object>"
      ]
     },
     "metadata": {},
     "output_type": "display_data"
    }
   ],
   "source": [
    "x = np.linspace(0.0, 4.0 * np.pi, 1000)\n",
    "y = 5.0 * np.cos(x)\n",
    "u_y = 1.0\n",
    "\n",
    "plot = pyg2d.pyg2d()\n",
    "plot.add_line(x, y, linestyle='-', linecolor='#fc8d82', yerr=u_y, name=r'$\\sin \\left( \\theta \\right)$')\n",
    "plot.lines_on()\n",
    "plot.markers_off()\n",
    "\n",
    "plot.export('_static/dual', ratio='silver')\n",
    "plot.show(caption='some caption', label='')"
   ]
  },
  {
   "cell_type": "markdown",
   "metadata": {
    "deletable": true,
    "editable": true
   },
   "source": [
    "### Cross Referencing"
   ]
  },
  {
   "cell_type": "code",
   "execution_count": 4,
   "metadata": {
    "collapsed": true,
    "deletable": true,
    "editable": true
   },
   "outputs": [],
   "source": [
    "# coming soon"
   ]
  },
  {
   "cell_type": "markdown",
   "metadata": {
    "deletable": true,
    "editable": true
   },
   "source": [
    "### Three Dimensional Plotting"
   ]
  },
  {
   "cell_type": "code",
   "execution_count": 8,
   "metadata": {
    "collapsed": false,
    "deletable": true,
    "editable": true
   },
   "outputs": [
    {
     "data": {
      "text/html": [
       "\n",
       "\t\t\t\t<div class='pygfigure' name='' style='text-align: center; max-width: 800px; margin-left: auto; margin-right: auto;'>\n",
       "\t\t\t\t\t<img style='margin: auto; max-width:100%; width:1250.000000px; height: auto;' src='_static/threed_surf.svg?1453912390' />\n",
       "\t\t\t\t\t<div style='margin: auto; text-align: center;' class='figurecaption'><b>Figure 5:</b> some caption</div>\n",
       "\t\t\t\t</div>\n",
       "\t\t\t"
      ],
      "text/plain": [
       "<IPython.core.display.HTML object>"
      ]
     },
     "metadata": {},
     "output_type": "display_data"
    }
   ],
   "source": [
    "from pyg import threed as pyg3d\n",
    "\n",
    "plot = pyg3d.pyg3d()\n",
    "x = np.linspace(0.0, 5.0)\n",
    "y = np.linspace(0.0, 5.0)\n",
    "X, Y = np.meshgrid(x, y)\n",
    "z = np.power(X, 2.0) - np.power(Y, 3.0)\n",
    "plot.surf(x, y, z)\n",
    "plot.export('_static/threed_surf')\n",
    "plot.show(caption='some caption', label='')"
   ]
  },
  {
   "cell_type": "markdown",
   "metadata": {
    "deletable": true,
    "editable": true
   },
   "source": [
    "### Two to Three Dimensional Plotting"
   ]
  },
  {
   "cell_type": "code",
   "execution_count": 6,
   "metadata": {
    "collapsed": true,
    "deletable": true,
    "editable": true
   },
   "outputs": [],
   "source": [
    "# coming soon"
   ]
  }
 ],
 "metadata": {
  "hide_input": false,
  "kernelspec": {
   "display_name": "Python 2",
   "language": "python",
   "name": "python2"
  },
  "language_info": {
   "codemirror_mode": {
    "name": "ipython",
    "version": 2
   },
   "file_extension": ".py",
   "mimetype": "text/x-python",
   "name": "python",
   "nbconvert_exporter": "python",
   "pygments_lexer": "ipython2",
   "version": "2.7.13"
  },
  "latex_envs": {
   "LaTeX_envs_menu_present": true,
   "autocomplete": true,
   "bibliofile": "bibs/dissertation.bib",
   "cite_by": "apalike",
   "current_citInitial": 1,
   "eqLabelWithNumbers": true,
   "eqNumInitial": 1,
   "hotkeys": {
    "equation": "Ctrl-E",
    "itemize": "Ctrl-I"
   },
   "labels_anchors": false,
   "latex_user_defs": false,
   "report_style_numbering": false,
   "user_envs_cfg": false
  }
 },
 "nbformat": 4,
 "nbformat_minor": 2
}
