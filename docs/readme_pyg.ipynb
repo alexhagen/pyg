{
 "cells": [
  {
   "cell_type": "markdown",
   "metadata": {},
   "source": [
    "# pyg - A graphics class\n",
    "\n",
    "By Alex Hagen\n",
    "\n",
    "``pyg`` started as a simple wrapper around ``matplotlib`` to help me keep my style the same in plotting, but now it's expanded to a full graphics suite.  If you get bored reading through the first two examples, skip to the bottom. Those examples are a bit cooler.\n",
    "\n",
    "## Installation\n",
    "\n",
    "For ``pyg``, we need quite a few requirements.  Installation right now is pretty manual, but this should do the trick on unix systems:\n",
    "\n",
    "```bash\n",
    "pip install numpy scipy matplotlib colours\n",
    "mkdir ~/util\n",
    "cd ~/util\n",
    "git clone https://github.com/alexhagen/pyg -b master pyg\n",
    "sudo echo \"export PYTHONPATH=${PYTHONPATH}:~/util\" >> ~/.bashrc\n",
    "source ~/.bashrc\n",
    "```\n",
    "\n",
    "and then we can just import pyg whenever with"
   ]
  },
  {
   "cell_type": "code",
   "execution_count": 1,
   "metadata": {
    "collapsed": true
   },
   "outputs": [],
   "source": [
    "from pyg import twod as pyg2d"
   ]
  },
  {
   "cell_type": "markdown",
   "metadata": {},
   "source": [
    "## Usage\n",
    "\n",
    "``pyg`` has one main class, a ``twod`` plot type, and it has several other classes. The ``table`` module has some table printing help for Jupyter notebooks and some LaTeX publication helper functions.  The ``threed`` module has some ``matplotlib`` three dimensional plotting (this is good for surface plotting, if you're doing geometric visualization, use my [``pyb``](github.com/alexhagen/pyb) class, which I'll include into ``pyg`` soon), ``three2twod`` is a class for annotating three dimensional plotting (if you have the transformation matrix from 3-d to 2-d).  I've created some informative examples of these below."
   ]
  },
  {
   "cell_type": "markdown",
   "metadata": {},
   "source": [
    "### Line Plotting\n",
    "\n",
    "The simplest plotting in ``pyg`` is line plotting, and the following two figures show the api for plotting a line with its associated uncertainty."
   ]
  },
  {
   "cell_type": "code",
   "execution_count": 2,
   "metadata": {
    "scrolled": true
   },
   "outputs": [
    {
     "data": {
      "text/html": [
       "\n",
       "\t\t\t\t<div class='pygfigure' name='['somecaption']' style='text-align: center; max-width: 800px; margin-left: auto; margin-right: auto;'>\n",
       "\t\t\t\t\t<img style='margin: auto; max-width:100%; width:1250.000000px; height: auto;' src='_static/line.svg?1718650310' />\n",
       "\t\t\t\t\t<div style='margin: auto; text-align: center;' class='figurecaption'><b>Figure 1:</b> some caption</div>\n",
       "\t\t\t\t</div>\n",
       "\t\t\t"
      ],
      "text/plain": [
       "<IPython.core.display.HTML object>"
      ]
     },
     "metadata": {},
     "output_type": "display_data"
    }
   ],
   "source": [
    "import numpy as np\n",
    "\n",
    "x = np.linspace(0.0, 4.0 * np.pi, 1000)\n",
    "y = np.sin(x)\n",
    "u_y = 0.1\n",
    "\n",
    "plot = pyg2d.pyg2d()\n",
    "plot.add_line(x, y, linestyle='-', linecolor='#285668', yerr=u_y, error_fill=True,\n",
    "              name=r'$\\sin \\left( \\theta \\right)$')\n",
    "\n",
    "plot.xlabel('x-coordinate ($x$) [$\\unit{cm}$]')\n",
    "plot.ylabel('y-coordinate ($y$) [$\\unit{cm}$]')\n",
    "\n",
    "plot.lines_on()\n",
    "plot.markers_off()\n",
    "\n",
    "plot.export('_static/line', ratio='silver')\n",
    "plot.show(caption='some caption')"
   ]
  },
  {
   "cell_type": "code",
   "execution_count": 3,
   "metadata": {},
   "outputs": [
    {
     "data": {
      "text/html": [
       "\n",
       "\t\t\t\t<div class='pygfigure' name='['Sinusoidwithuncertaintyandasparselysampledsinusoidwithuncertainty']' style='text-align: center; max-width: 800px; margin-left: auto; margin-right: auto;'>\n",
       "\t\t\t\t\t<img style='margin: auto; max-width:100%; width:1250.000000px; height: auto;' src='_static/err.svg?1050566069' />\n",
       "\t\t\t\t\t<div style='margin: auto; text-align: center;' class='figurecaption'><b>Figure 2:</b> Sinusoid with uncertainty and a sparsely sampled sinusoid with uncertainty</div>\n",
       "\t\t\t\t</div>\n",
       "\t\t\t"
      ],
      "text/plain": [
       "<IPython.core.display.HTML object>"
      ]
     },
     "metadata": {},
     "output_type": "display_data"
    }
   ],
   "source": [
    "x = np.linspace(0.0, 4.0 * np.pi, 1000)\n",
    "y = 5.0 * np.cos(x)\n",
    "u_y = 1.0\n",
    "x_sparse = np.linspace(0.0, 4.0 * np.pi, 10)\n",
    "y_sparse = 5.0 * np.cos(x_sparse)\n",
    "u_y_sparse = 1.0\n",
    "\n",
    "plot = pyg2d.pyg2d()\n",
    "plot.add_line(x, y, linestyle='-', linecolor='#fc8d82', yerr=u_y, error_fill=True,\n",
    "              name=r'$\\sin \\left( \\theta \\right)$')\n",
    "plot.add_line(x_sparse, y_sparse, linecolor='#000000', yerr=u_y_sparse,\n",
    "              name=r'sparse')\n",
    "plot.lines_on()\n",
    "plot.markers_off()\n",
    "plot.lines['sparse'].set_alpha(1.0)\n",
    "plot.lines['sparse'].set_markersize(6)\n",
    "plot.lines['sparse'].set_linewidth(0.0)\n",
    "\n",
    "plot.export('_static/err', ratio='silver')\n",
    "plot.show(caption='Sinusoid with uncertainty and a sparsely sampled sinusoid with uncertainty')"
   ]
  },
  {
   "cell_type": "markdown",
   "metadata": {},
   "source": [
    "### Dual Axis Plotting\n",
    "\n",
    "The following figure shows the API for plotting data on concurrent axes.  There are two different APIs to this:  the first requires you to plot your data, and then define a function that converts one axis to another.  The other API requires you to plot two different data sets on axes with different limits."
   ]
  },
  {
   "cell_type": "code",
   "execution_count": 4,
   "metadata": {},
   "outputs": [
    {
     "data": {
      "text/html": [
       "\n",
       "\t\t\t\t<div class='pygfigure' name='['Sinusoidswiththesamexaxisondifferentyaxes']' style='text-align: center; max-width: 800px; margin-left: auto; margin-right: auto;'>\n",
       "\t\t\t\t\t<img style='margin: auto; max-width:100%; width:1250.000000px; height: auto;' src='_static/dual.svg?763316117' />\n",
       "\t\t\t\t\t<div style='margin: auto; text-align: center;' class='figurecaption'><b>Figure 3:</b> Sinusoids with the same $x$ axis, on different $y$ axes</div>\n",
       "\t\t\t\t</div>\n",
       "\t\t\t"
      ],
      "text/plain": [
       "<IPython.core.display.HTML object>"
      ]
     },
     "metadata": {},
     "output_type": "display_data"
    }
   ],
   "source": [
    "x = np.linspace(0., 4.0 * np.pi, 1000)\n",
    "y1 = 1.0 * np.sin(x)\n",
    "y2 = 5.0 * np.cos(x)\n",
    "\n",
    "plot = pyg2d.pyg2d()\n",
    "plot.add_line(x, y1, linecolor='#fc8d82', name='$y_{1}$')\n",
    "plot.add_line_yy(x, y2, linecolor='#285668', name='$y_{2}$')\n",
    "plot.markers_off()\n",
    "\n",
    "plot.xlabel('x coordinate ($x$)')\n",
    "plot.ylabel('y coordinate ($y_{1}$)')\n",
    "plot.ylabel('y coordinate ($y_{2}$)', axes=plot.ax2)\n",
    "plot.legend(loc=3)\n",
    "\n",
    "plot.export('_static/dual', ratio='silver')\n",
    "plot.show('Sinusoids with the same $x$ axis, on different $y$ axes')"
   ]
  },
  {
   "cell_type": "markdown",
   "metadata": {},
   "source": [
    "The next figure shows how you can compare a single function against different ordinate axes.  This would be useful if you are comparing different units, but I particularly use it when there is some electrical measurement that is calibrated non-linearly (for example, in gamma spectroscopy)."
   ]
  },
  {
   "cell_type": "code",
   "execution_count": 5,
   "metadata": {},
   "outputs": [
    {
     "data": {
      "text/html": [
       "\n",
       "\t\t\t\t<div class='pygfigure' name='['Sinusoidintermsofradiansandintermsofpi']' style='text-align: center; max-width: 800px; margin-left: auto; margin-right: auto;'>\n",
       "\t\t\t\t\t<img style='margin: auto; max-width:100%; width:1250.000000px; height: auto;' src='_static/dualx.svg?1157877918' />\n",
       "\t\t\t\t\t<div style='margin: auto; text-align: center;' class='figurecaption'><b>Figure 4:</b> Sinusoid in terms of radians and in terms of $\\pi$</div>\n",
       "\t\t\t\t</div>\n",
       "\t\t\t"
      ],
      "text/plain": [
       "<IPython.core.display.HTML object>"
      ]
     },
     "metadata": {},
     "output_type": "display_data"
    }
   ],
   "source": [
    "x = np.linspace(0., 4.0 * np.pi, 1000)\n",
    "y = 1.0 * np.sin(x)\n",
    "\n",
    "plot = pyg2d.pyg2d()\n",
    "plot.add_line(x, y, linecolor='#285668', name='$y$')\n",
    "plot.markers_off()\n",
    "\n",
    "def pi_div(x):\n",
    "    return x / np.pi\n",
    "plot.add_xx(pi_div)\n",
    "\n",
    "plot.xlabel('x coordinate ($x$) [$\\unit{cm}$]')\n",
    "plot.xlabel('x coordinate in terms of $\\pi$ ($x$) [$\\unit{\\pi}$]', axes=plot.ax2)\n",
    "plot.ylabel('y coordinate ($y$) [$\\unit{cm}$]')\n",
    "\n",
    "plot.export('_static/dualx', ratio='silver')\n",
    "plot.show('Sinusoid in terms of radians and in terms of $\\pi$')"
   ]
  },
  {
   "cell_type": "markdown",
   "metadata": {},
   "source": [
    "### Three Dimensional Plotting\n",
    "\n",
    "The following shows an example for 3d plotting using ``pyg``, which is generally simple except for the conversion from matrix data into a form that can be plotted.  Below shows a simple example for a power fit, but an API is soon coming for converting data into the right formats."
   ]
  },
  {
   "cell_type": "code",
   "execution_count": 6,
   "metadata": {},
   "outputs": [
    {
     "data": {
      "text/html": [
       "\n",
       "\t\t\t\t<div class='pygfigure' name='['Anarbitrarythreedimensionalsurface']' style='text-align: center; max-width: 800px; margin-left: auto; margin-right: auto;'>\n",
       "\t\t\t\t\t<img style='margin: auto; max-width:100%; width:1250.000000px; height: auto;' src='_static/threed_surf.svg?1199804140' />\n",
       "\t\t\t\t\t<div style='margin: auto; text-align: center;' class='figurecaption'><b>Figure 5:</b> An arbitrary three dimensional surface</div>\n",
       "\t\t\t\t</div>\n",
       "\t\t\t"
      ],
      "text/plain": [
       "<IPython.core.display.HTML object>"
      ]
     },
     "metadata": {},
     "output_type": "display_data"
    }
   ],
   "source": [
    "from pyg import threed as pyg3d\n",
    "\n",
    "plot = pyg3d.pyg3d()\n",
    "x = np.linspace(0.0, 5.0)\n",
    "y = np.linspace(0.0, 5.0)\n",
    "X, Y = np.meshgrid(x, y)\n",
    "z = np.power(X, 2.0) - np.power(Y, 3.0)\n",
    "plot.surf(x, y, z)\n",
    "plot.export('_static/threed_surf')\n",
    "plot.show(caption='An arbitrary three dimensional surface')"
   ]
  },
  {
   "cell_type": "markdown",
   "metadata": {},
   "source": [
    "### Two to Three Dimensional Plotting\n",
    "\n",
    "The description of 3 dimensional geometry by annotation is difficult in the best circumstances, but very few things are \"best circumstances\".  Most of the field of visualization relies on software specifically designed for visualization, such as ``VTK`` and its derivatives.  This is very powerful, but for someone analyzing data or writing simulations, the last thing they want to do is write an interface to these programs.  So, I've written a quick and easy API to keep all the data in Python and visualize the geometry in Blender.  Then, I have an interface for which the code can extract the camera parameters of an exported render, and then the user can plot two dimensional annotations overtop of the three-dimensional geometry, in place.  A more advanced example is coming, but a rudimentary example is shown below."
   ]
  },
  {
   "cell_type": "code",
   "execution_count": 8,
   "metadata": {},
   "outputs": [
    {
     "data": {
      "text/html": [
       "\n",
       "\t\t\t\t<div class='pygfigure' name='['Usingtwodimensionalannotationsonathreedimensionalgeometricplot']' style='text-align: center; max-width: 800px; margin-left: auto; margin-right: auto;'>\n",
       "\t\t\t\t\t<img style='margin: auto; max-width:100%; width:1250.000000px; height: auto;' src='_static/ann_im.svg?1577312639' />\n",
       "\t\t\t\t\t<div style='margin: auto; text-align: center;' class='figurecaption'><b>Figure 7:</b> Using two dimensional annotations on a three dimensional geometric plot</div>\n",
       "\t\t\t\t</div>\n",
       "\t\t\t"
      ],
      "text/plain": [
       "<IPython.core.display.HTML object>"
      ]
     },
     "metadata": {},
     "output_type": "display_data"
    }
   ],
   "source": [
    "from pyg.pyb import pyb\n",
    "from pyg import three2twod as pyg32d\n",
    "\n",
    "scene = pyb.pyb()\n",
    "scene.rpp(c=(0., 0., 0.), l=(100., 100., 100.), name='cube')\n",
    "scene.flat(color=\"#E3AE24\", name='newgold')\n",
    "scene.set_matl(obj='cube', matl='newgold')\n",
    "scene.rpp(c=(0., 0., -65.), l=(500., 500., 30.), name='floor')\n",
    "scene.flat(color='#888888', name='gray')\n",
    "scene.set_matl(obj='floor', matl='gray')\n",
    "scene.run('_static/blenderrender.png')\n",
    "plot = pyg32d.ann_im('_static/blenderrender.png')\n",
    "plot.add_data_pointer(0., 0., 0., string=r'$\\vec{c} = \\left( 0, 0, 0 \\right)$',\n",
    "                   place=(-500., 200.))\n",
    "plot.add_legend_entry(color=\"#E3AE24\", name='Cube')\\\n",
    "    .add_legend_entry(color='#888888', name='Floor')\n",
    "plot.legend(loc=2)\n",
    "plot.export('_static/ann_im', ratio='golden')\n",
    "plot.show('Using two dimensional annotations on a three dimensional geometric plot')"
   ]
  }
 ],
 "metadata": {
  "hide_input": false,
  "kernelspec": {
   "display_name": "Python 2",
   "language": "python",
   "name": "python2"
  },
  "language_info": {
   "codemirror_mode": {
    "name": "ipython",
    "version": 2
   },
   "file_extension": ".py",
   "mimetype": "text/x-python",
   "name": "python",
   "nbconvert_exporter": "python",
   "pygments_lexer": "ipython2",
   "version": "2.7.12"
  },
  "latex_envs": {
   "LaTeX_envs_menu_present": true,
   "autocomplete": true,
   "bibliofile": "bibs/dissertation.bib",
   "cite_by": "apalike",
   "current_citInitial": 1,
   "eqLabelWithNumbers": true,
   "eqNumInitial": 1,
   "hotkeys": {
    "equation": "Ctrl-E",
    "itemize": "Ctrl-I"
   },
   "labels_anchors": false,
   "latex_user_defs": false,
   "report_style_numbering": false,
   "user_envs_cfg": false
  }
 },
 "nbformat": 4,
 "nbformat_minor": 2
}
